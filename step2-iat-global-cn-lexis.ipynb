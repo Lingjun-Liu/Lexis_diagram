{
 "cells": [
  {
   "cell_type": "markdown",
   "id": "c4e20b4d",
   "metadata": {
    "papermill": {
     "duration": 0.005094,
     "end_time": "2025-08-30T05:23:41.991738",
     "exception": false,
     "start_time": "2025-08-30T05:23:41.986644",
     "status": "completed"
    },
    "tags": []
   },
   "source": [
    "# 1整理数据"
   ]
  },
  {
   "cell_type": "code",
   "execution_count": 1,
   "id": "82e5b71c",
   "metadata": {
    "execution": {
     "iopub.execute_input": "2025-08-30T05:23:42.005674Z",
     "iopub.status.busy": "2025-08-30T05:23:42.003182Z",
     "iopub.status.idle": "2025-08-30T05:23:43.535902Z",
     "shell.execute_reply": "2025-08-30T05:23:43.533885Z"
    },
    "papermill": {
     "duration": 1.543399,
     "end_time": "2025-08-30T05:23:43.539517",
     "exception": false,
     "start_time": "2025-08-30T05:23:41.996118",
     "status": "completed"
    },
    "tags": []
   },
   "outputs": [
    {
     "name": "stderr",
     "output_type": "stream",
     "text": [
      "\n",
      "Attaching package: ‘dplyr’\n",
      "\n",
      "\n"
     ]
    },
    {
     "name": "stderr",
     "output_type": "stream",
     "text": [
      "The following objects are masked from ‘package:stats’:\n",
      "\n",
      "    filter, lag\n",
      "\n",
      "\n"
     ]
    },
    {
     "name": "stderr",
     "output_type": "stream",
     "text": [
      "The following objects are masked from ‘package:base’:\n",
      "\n",
      "    intersect, setdiff, setequal, union\n",
      "\n",
      "\n"
     ]
    },
    {
     "name": "stderr",
     "output_type": "stream",
     "text": [
      "── \u001b[1mAttaching core tidyverse packages\u001b[22m ──────────────────────── tidyverse 2.0.0 ──\n",
      "\u001b[32m✔\u001b[39m \u001b[34mforcats  \u001b[39m 1.0.0     \u001b[32m✔\u001b[39m \u001b[34mreadr    \u001b[39m 2.1.5\n",
      "\u001b[32m✔\u001b[39m \u001b[34mggplot2  \u001b[39m 3.5.1     \u001b[32m✔\u001b[39m \u001b[34mstringr  \u001b[39m 1.5.1\n",
      "\u001b[32m✔\u001b[39m \u001b[34mlubridate\u001b[39m 1.9.3     \u001b[32m✔\u001b[39m \u001b[34mtibble   \u001b[39m 3.2.1\n",
      "\u001b[32m✔\u001b[39m \u001b[34mpurrr    \u001b[39m 1.0.2     \u001b[32m✔\u001b[39m \u001b[34mtidyr    \u001b[39m 1.3.1\n"
     ]
    },
    {
     "name": "stderr",
     "output_type": "stream",
     "text": [
      "── \u001b[1mConflicts\u001b[22m ────────────────────────────────────────── tidyverse_conflicts() ──\n",
      "\u001b[31m✖\u001b[39m \u001b[34mdplyr\u001b[39m::\u001b[32mfilter()\u001b[39m masks \u001b[34mstats\u001b[39m::filter()\n",
      "\u001b[31m✖\u001b[39m \u001b[34mdplyr\u001b[39m::\u001b[32mlag()\u001b[39m    masks \u001b[34mstats\u001b[39m::lag()\n",
      "\u001b[36mℹ\u001b[39m Use the conflicted package (\u001b[3m\u001b[34m<http://conflicted.r-lib.org/>\u001b[39m\u001b[23m) to force all conflicts to become errors\n"
     ]
    }
   ],
   "source": [
    "# Load the packages\n",
    "library(haven)\n",
    "library(dplyr)\n",
    "library(tidyverse)"
   ]
  },
  {
   "cell_type": "code",
   "execution_count": 2,
   "id": "4018ab9c",
   "metadata": {
    "execution": {
     "iopub.execute_input": "2025-08-30T05:23:43.588475Z",
     "iopub.status.busy": "2025-08-30T05:23:43.553614Z",
     "iopub.status.idle": "2025-08-30T05:24:36.569754Z",
     "shell.execute_reply": "2025-08-30T05:24:36.567895Z"
    },
    "papermill": {
     "duration": 53.027933,
     "end_time": "2025-08-30T05:24:36.572374",
     "exception": false,
     "start_time": "2025-08-30T05:23:43.544441",
     "status": "completed"
    },
    "tags": []
   },
   "outputs": [
    {
     "name": "stdout",
     "output_type": "stream",
     "text": [
      "Rows: 2,236,528\n",
      "Columns: 46\n",
      "$ session_id                \u001b[3m\u001b[90m<dbl>\u001b[39m\u001b[23m -2999930, -2999920, -2999915, -2999892, -299…\n",
      "$ age                       \u001b[3m\u001b[90m<int>\u001b[39m\u001b[23m 19, 30, 35, 24, 26, 28, 43, 18, 19, 38, 21, …\n",
      "$ birthyear                 \u001b[3m\u001b[90m<int>\u001b[39m\u001b[23m NA, NA, NA, NA, NA, NA, NA, NA, NA, NA, NA, …\n",
      "$ year                      \u001b[3m\u001b[90m<int>\u001b[39m\u001b[23m 2005, 2005, 2005, 2005, 2005, 2005, 2005, 20…\n",
      "$ sex                       \u001b[3m\u001b[90m<chr>\u001b[39m\u001b[23m \"f\", \"f\", \"m\", \"f\", \"n\", \"m\", \"m\", \"f\", \"m\",…\n",
      "$ birthsex                  \u001b[3m\u001b[90m<int>\u001b[39m\u001b[23m NA, NA, NA, NA, NA, NA, NA, NA, NA, NA, NA, …\n",
      "$ genderIdentity_0002       \u001b[3m\u001b[90m<int>\u001b[39m\u001b[23m NA, NA, NA, NA, NA, NA, NA, NA, NA, NA, NA, …\n",
      "$ transIdentity             \u001b[3m\u001b[90m<int>\u001b[39m\u001b[23m NA, NA, NA, NA, NA, NA, NA, NA, NA, NA, NA, …\n",
      "$ att_5                     \u001b[3m\u001b[90m<int>\u001b[39m\u001b[23m 3, 3, 3, 4, 3, 4, 3, 3, 4, 4, 3, 4, 4, 3, 3,…\n",
      "$ att_7                     \u001b[3m\u001b[90m<int>\u001b[39m\u001b[23m NA, NA, NA, NA, NA, NA, NA, NA, NA, NA, NA, …\n",
      "$ D_biep.Young_Good_all     \u001b[3m\u001b[90m<dbl>\u001b[39m\u001b[23m 0.49379792, 0.11875695, 0.61289950, 1.047096…\n",
      "$ PCT_error_3467            \u001b[3m\u001b[90m<dbl>\u001b[39m\u001b[23m 5.0000000, 6.6666667, 5.8333333, 5.8333333, …\n",
      "$ pct_400                   \u001b[3m\u001b[90m<dbl>\u001b[39m\u001b[23m 3.3333333, 0.0000000, 0.8333333, 0.0000000, …\n",
      "$ N_ERROR_3                 \u001b[3m\u001b[90m<int>\u001b[39m\u001b[23m 1, 2, 1, 0, 2, 1, 0, 3, 0, 1, 0, 1, 1, 2, 2,…\n",
      "$ N_ERROR_4                 \u001b[3m\u001b[90m<int>\u001b[39m\u001b[23m 1, 0, 5, 0, 3, 1, 0, 4, 3, 0, 4, 1, 0, 1, 4,…\n",
      "$ N_ERROR_6                 \u001b[3m\u001b[90m<int>\u001b[39m\u001b[23m 1, 2, 0, 2, 2, 0, 0, 1, 3, 0, 0, 2, 2, 0, 1,…\n",
      "$ N_ERROR_7                 \u001b[3m\u001b[90m<int>\u001b[39m\u001b[23m 3, 4, 1, 5, 3, 2, 1, 4, 2, 0, 6, 2, 1, 3, 3,…\n",
      "$ N_3                       \u001b[3m\u001b[90m<int>\u001b[39m\u001b[23m 20, 20, 20, 20, 20, 20, 20, 20, 20, 20, 20, …\n",
      "$ N_4                       \u001b[3m\u001b[90m<int>\u001b[39m\u001b[23m 40, 40, 40, 40, 40, 40, 40, 40, 40, 40, 40, …\n",
      "$ N_6                       \u001b[3m\u001b[90m<int>\u001b[39m\u001b[23m 20, 20, 20, 20, 20, 20, 20, 20, 20, 20, 20, …\n",
      "$ N_7                       \u001b[3m\u001b[90m<int>\u001b[39m\u001b[23m 40, 40, 40, 40, 40, 40, 40, 40, 40, 40, 40, …\n",
      "$ edu                       \u001b[3m\u001b[90m<int>\u001b[39m\u001b[23m 5, 4, 7, 7, 7, 9, 7, 5, 5, NA, 3, 5, 8, 5, 6…\n",
      "$ edu_9                     \u001b[3m\u001b[90m<int>\u001b[39m\u001b[23m NA, NA, NA, NA, NA, NA, NA, NA, NA, NA, NA, …\n",
      "$ edu_13                    \u001b[3m\u001b[90m<int>\u001b[39m\u001b[23m NA, NA, NA, NA, NA, NA, NA, NA, NA, NA, NA, …\n",
      "$ edu_14                    \u001b[3m\u001b[90m<int>\u001b[39m\u001b[23m 5, 4, 7, 7, 7, 9, 7, 5, 5, NA, 3, 5, 8, 5, 6…\n",
      "$ major                     \u001b[3m\u001b[90m<int>\u001b[39m\u001b[23m 7, NA, 2, 8, 11, 8, 4, NA, 2, 11, NA, 7, 2, …\n",
      "$ occupation                \u001b[3m\u001b[90m<chr>\u001b[39m\u001b[23m \"\", \"\", \"\", \"\", \"\", \"\", \"\", \"\", \"\", \"\", \"\", …\n",
      "$ country                   \u001b[3m\u001b[90m<chr>\u001b[39m\u001b[23m NA, NA, NA, NA, NA, NA, NA, NA, NA, NA, NA, …\n",
      "$ countrycit                \u001b[3m\u001b[90m<chr>\u001b[39m\u001b[23m \"US\", \"US\", \"US\", \"US\", \"US\", \"US\", \"US\", \"U…\n",
      "$ countrycit_num            \u001b[3m\u001b[90m<int>\u001b[39m\u001b[23m NA, NA, NA, NA, NA, NA, NA, NA, NA, NA, NA, …\n",
      "$ countrycit003_num         \u001b[3m\u001b[90m<int>\u001b[39m\u001b[23m NA, NA, NA, NA, NA, NA, NA, NA, NA, NA, NA, …\n",
      "$ Age                       \u001b[3m\u001b[90m<int>\u001b[39m\u001b[23m 19, 30, 35, 24, 26, 28, 43, 18, 19, 38, 21, …\n",
      "$ Period                    \u001b[3m\u001b[90m<int>\u001b[39m\u001b[23m 2005, 2005, 2005, 2005, 2005, 2005, 2005, 20…\n",
      "$ Cohort                    \u001b[3m\u001b[90m<int>\u001b[39m\u001b[23m 1986, 1975, 1970, 1981, 1979, 1977, 1962, 19…\n",
      "$ sex_raw                   \u001b[3m\u001b[90m<chr>\u001b[39m\u001b[23m \"f\", \"f\", \"m\", \"f\", \"n\", \"m\", \"m\", \"f\", \"m\",…\n",
      "$ sex_clean                 \u001b[3m\u001b[90m<int>\u001b[39m\u001b[23m 2, 2, 1, 2, 1, 1, 1, 2, 1, 2, 1, 1, 2, 2, 1,…\n",
      "$ genderIdentity_0002_clean \u001b[3m\u001b[90m<int>\u001b[39m\u001b[23m NA, NA, NA, NA, NA, NA, NA, NA, NA, NA, NA, …\n",
      "$ Sex                       \u001b[3m\u001b[90m<int>\u001b[39m\u001b[23m 2, 2, 1, 2, 1, 1, 1, 2, 1, 2, 1, 1, 2, 2, 1,…\n",
      "$ att_7_scaled              \u001b[3m\u001b[90m<dbl>\u001b[39m\u001b[23m NA, NA, NA, NA, NA, NA, NA, NA, NA, NA, NA, …\n",
      "$ Att                       \u001b[3m\u001b[90m<dbl>\u001b[39m\u001b[23m 3, 3, 3, 4, 3, 4, 3, 3, 4, 4, 3, 4, 4, 3, 3,…\n",
      "$ country_iso               \u001b[3m\u001b[90m<chr>\u001b[39m\u001b[23m \"US\", \"US\", \"US\", \"US\", \"US\", \"US\", \"US\", \"U…\n",
      "$ country_source            \u001b[3m\u001b[90m<chr>\u001b[39m\u001b[23m \"countrycit\", \"countrycit\", \"countrycit\", \"c…\n",
      "$ lable1                    \u001b[3m\u001b[90m<chr>\u001b[39m\u001b[23m NA, NA, NA, NA, NA, NA, NA, NA, NA, NA, NA, …\n",
      "$ lable2                    \u001b[3m\u001b[90m<chr>\u001b[39m\u001b[23m NA, NA, NA, NA, NA, NA, NA, NA, NA, NA, NA, …\n",
      "$ AgeGroup                  \u001b[3m\u001b[90m<chr>\u001b[39m\u001b[23m \"15-19\", \"30-34\", \"35-39\", \"20-24\", \"25-29\",…\n",
      "$ post_weight               \u001b[3m\u001b[90m<dbl>\u001b[39m\u001b[23m 0.2816792, 0.7606034, 1.5000306, 0.2940237, …\n"
     ]
    },
    {
     "data": {
      "text/html": [
       "<table class=\"dataframe\">\n",
       "<caption>A data.frame: 6 × 46</caption>\n",
       "<thead>\n",
       "\t<tr><th></th><th scope=col>session_id</th><th scope=col>age</th><th scope=col>birthyear</th><th scope=col>year</th><th scope=col>sex</th><th scope=col>birthsex</th><th scope=col>genderIdentity_0002</th><th scope=col>transIdentity</th><th scope=col>att_5</th><th scope=col>att_7</th><th scope=col>⋯</th><th scope=col>genderIdentity_0002_clean</th><th scope=col>Sex</th><th scope=col>att_7_scaled</th><th scope=col>Att</th><th scope=col>country_iso</th><th scope=col>country_source</th><th scope=col>lable1</th><th scope=col>lable2</th><th scope=col>AgeGroup</th><th scope=col>post_weight</th></tr>\n",
       "\t<tr><th></th><th scope=col>&lt;dbl&gt;</th><th scope=col>&lt;int&gt;</th><th scope=col>&lt;int&gt;</th><th scope=col>&lt;int&gt;</th><th scope=col>&lt;chr&gt;</th><th scope=col>&lt;int&gt;</th><th scope=col>&lt;int&gt;</th><th scope=col>&lt;int&gt;</th><th scope=col>&lt;int&gt;</th><th scope=col>&lt;int&gt;</th><th scope=col>⋯</th><th scope=col>&lt;int&gt;</th><th scope=col>&lt;int&gt;</th><th scope=col>&lt;dbl&gt;</th><th scope=col>&lt;dbl&gt;</th><th scope=col>&lt;chr&gt;</th><th scope=col>&lt;chr&gt;</th><th scope=col>&lt;chr&gt;</th><th scope=col>&lt;chr&gt;</th><th scope=col>&lt;chr&gt;</th><th scope=col>&lt;dbl&gt;</th></tr>\n",
       "</thead>\n",
       "<tbody>\n",
       "\t<tr><th scope=row>1</th><td>-2999930</td><td>19</td><td>NA</td><td>2005</td><td>f</td><td>NA</td><td>NA</td><td>NA</td><td>3</td><td>NA</td><td>⋯</td><td>NA</td><td>2</td><td>NA</td><td>3</td><td>US</td><td>countrycit</td><td>NA</td><td>NA</td><td>15-19</td><td>0.2816792</td></tr>\n",
       "\t<tr><th scope=row>2</th><td>-2999920</td><td>30</td><td>NA</td><td>2005</td><td>f</td><td>NA</td><td>NA</td><td>NA</td><td>3</td><td>NA</td><td>⋯</td><td>NA</td><td>2</td><td>NA</td><td>3</td><td>US</td><td>countrycit</td><td>NA</td><td>NA</td><td>30-34</td><td>0.7606034</td></tr>\n",
       "\t<tr><th scope=row>3</th><td>-2999915</td><td>35</td><td>NA</td><td>2005</td><td>m</td><td>NA</td><td>NA</td><td>NA</td><td>3</td><td>NA</td><td>⋯</td><td>NA</td><td>1</td><td>NA</td><td>3</td><td>US</td><td>countrycit</td><td>NA</td><td>NA</td><td>35-39</td><td>1.5000306</td></tr>\n",
       "\t<tr><th scope=row>4</th><td>-2999892</td><td>24</td><td>NA</td><td>2005</td><td>f</td><td>NA</td><td>NA</td><td>NA</td><td>4</td><td>NA</td><td>⋯</td><td>NA</td><td>2</td><td>NA</td><td>4</td><td>US</td><td>countrycit</td><td>NA</td><td>NA</td><td>20-24</td><td>0.2940237</td></tr>\n",
       "\t<tr><th scope=row>5</th><td>-2999885</td><td>26</td><td>NA</td><td>2005</td><td>n</td><td>NA</td><td>NA</td><td>NA</td><td>3</td><td>NA</td><td>⋯</td><td>NA</td><td>1</td><td>NA</td><td>3</td><td>US</td><td>countrycit</td><td>NA</td><td>NA</td><td>25-29</td><td>0.8953045</td></tr>\n",
       "\t<tr><th scope=row>6</th><td>-2999882</td><td>28</td><td>NA</td><td>2005</td><td>m</td><td>NA</td><td>NA</td><td>NA</td><td>4</td><td>NA</td><td>⋯</td><td>NA</td><td>1</td><td>NA</td><td>4</td><td>US</td><td>countrycit</td><td>NA</td><td>NA</td><td>25-29</td><td>0.8953045</td></tr>\n",
       "</tbody>\n",
       "</table>\n"
      ],
      "text/latex": [
       "A data.frame: 6 × 46\n",
       "\\begin{tabular}{r|lllllllllllllllllllll}\n",
       "  & session\\_id & age & birthyear & year & sex & birthsex & genderIdentity\\_0002 & transIdentity & att\\_5 & att\\_7 & ⋯ & genderIdentity\\_0002\\_clean & Sex & att\\_7\\_scaled & Att & country\\_iso & country\\_source & lable1 & lable2 & AgeGroup & post\\_weight\\\\\n",
       "  & <dbl> & <int> & <int> & <int> & <chr> & <int> & <int> & <int> & <int> & <int> & ⋯ & <int> & <int> & <dbl> & <dbl> & <chr> & <chr> & <chr> & <chr> & <chr> & <dbl>\\\\\n",
       "\\hline\n",
       "\t1 & -2999930 & 19 & NA & 2005 & f & NA & NA & NA & 3 & NA & ⋯ & NA & 2 & NA & 3 & US & countrycit & NA & NA & 15-19 & 0.2816792\\\\\n",
       "\t2 & -2999920 & 30 & NA & 2005 & f & NA & NA & NA & 3 & NA & ⋯ & NA & 2 & NA & 3 & US & countrycit & NA & NA & 30-34 & 0.7606034\\\\\n",
       "\t3 & -2999915 & 35 & NA & 2005 & m & NA & NA & NA & 3 & NA & ⋯ & NA & 1 & NA & 3 & US & countrycit & NA & NA & 35-39 & 1.5000306\\\\\n",
       "\t4 & -2999892 & 24 & NA & 2005 & f & NA & NA & NA & 4 & NA & ⋯ & NA & 2 & NA & 4 & US & countrycit & NA & NA & 20-24 & 0.2940237\\\\\n",
       "\t5 & -2999885 & 26 & NA & 2005 & n & NA & NA & NA & 3 & NA & ⋯ & NA & 1 & NA & 3 & US & countrycit & NA & NA & 25-29 & 0.8953045\\\\\n",
       "\t6 & -2999882 & 28 & NA & 2005 & m & NA & NA & NA & 4 & NA & ⋯ & NA & 1 & NA & 4 & US & countrycit & NA & NA & 25-29 & 0.8953045\\\\\n",
       "\\end{tabular}\n"
      ],
      "text/markdown": [
       "\n",
       "A data.frame: 6 × 46\n",
       "\n",
       "| <!--/--> | session_id &lt;dbl&gt; | age &lt;int&gt; | birthyear &lt;int&gt; | year &lt;int&gt; | sex &lt;chr&gt; | birthsex &lt;int&gt; | genderIdentity_0002 &lt;int&gt; | transIdentity &lt;int&gt; | att_5 &lt;int&gt; | att_7 &lt;int&gt; | ⋯ ⋯ | genderIdentity_0002_clean &lt;int&gt; | Sex &lt;int&gt; | att_7_scaled &lt;dbl&gt; | Att &lt;dbl&gt; | country_iso &lt;chr&gt; | country_source &lt;chr&gt; | lable1 &lt;chr&gt; | lable2 &lt;chr&gt; | AgeGroup &lt;chr&gt; | post_weight &lt;dbl&gt; |\n",
       "|---|---|---|---|---|---|---|---|---|---|---|---|---|---|---|---|---|---|---|---|---|---|\n",
       "| 1 | -2999930 | 19 | NA | 2005 | f | NA | NA | NA | 3 | NA | ⋯ | NA | 2 | NA | 3 | US | countrycit | NA | NA | 15-19 | 0.2816792 |\n",
       "| 2 | -2999920 | 30 | NA | 2005 | f | NA | NA | NA | 3 | NA | ⋯ | NA | 2 | NA | 3 | US | countrycit | NA | NA | 30-34 | 0.7606034 |\n",
       "| 3 | -2999915 | 35 | NA | 2005 | m | NA | NA | NA | 3 | NA | ⋯ | NA | 1 | NA | 3 | US | countrycit | NA | NA | 35-39 | 1.5000306 |\n",
       "| 4 | -2999892 | 24 | NA | 2005 | f | NA | NA | NA | 4 | NA | ⋯ | NA | 2 | NA | 4 | US | countrycit | NA | NA | 20-24 | 0.2940237 |\n",
       "| 5 | -2999885 | 26 | NA | 2005 | n | NA | NA | NA | 3 | NA | ⋯ | NA | 1 | NA | 3 | US | countrycit | NA | NA | 25-29 | 0.8953045 |\n",
       "| 6 | -2999882 | 28 | NA | 2005 | m | NA | NA | NA | 4 | NA | ⋯ | NA | 1 | NA | 4 | US | countrycit | NA | NA | 25-29 | 0.8953045 |\n",
       "\n"
      ],
      "text/plain": [
       "  session_id age birthyear year sex birthsex genderIdentity_0002 transIdentity\n",
       "1 -2999930   19  NA        2005 f   NA       NA                  NA           \n",
       "2 -2999920   30  NA        2005 f   NA       NA                  NA           \n",
       "3 -2999915   35  NA        2005 m   NA       NA                  NA           \n",
       "4 -2999892   24  NA        2005 f   NA       NA                  NA           \n",
       "5 -2999885   26  NA        2005 n   NA       NA                  NA           \n",
       "6 -2999882   28  NA        2005 m   NA       NA                  NA           \n",
       "  att_5 att_7 ⋯ genderIdentity_0002_clean Sex att_7_scaled Att country_iso\n",
       "1 3     NA    ⋯ NA                        2   NA           3   US         \n",
       "2 3     NA    ⋯ NA                        2   NA           3   US         \n",
       "3 3     NA    ⋯ NA                        1   NA           3   US         \n",
       "4 4     NA    ⋯ NA                        2   NA           4   US         \n",
       "5 3     NA    ⋯ NA                        1   NA           3   US         \n",
       "6 4     NA    ⋯ NA                        1   NA           4   US         \n",
       "  country_source lable1 lable2 AgeGroup post_weight\n",
       "1 countrycit     NA     NA     15-19    0.2816792  \n",
       "2 countrycit     NA     NA     30-34    0.7606034  \n",
       "3 countrycit     NA     NA     35-39    1.5000306  \n",
       "4 countrycit     NA     NA     20-24    0.2940237  \n",
       "5 countrycit     NA     NA     25-29    0.8953045  \n",
       "6 countrycit     NA     NA     25-29    0.8953045  "
      ]
     },
     "metadata": {},
     "output_type": "display_data"
    }
   ],
   "source": [
    "# 读取 CSV 文件并命名为 data\n",
    "data <- read.csv(\"/kaggle/input/iatdata-weighted/survey_data_weighted_filtered.csv\")\n",
    "data <- data%>%\n",
    "  mutate(country_iso = ifelse(country_iso == \"UK\", \"GB\", country_iso)) \n",
    "# 查看前几行以确认导入成功\n",
    "glimpse(data)\n",
    "head(data)\n"
   ]
  },
  {
   "cell_type": "code",
   "execution_count": 3,
   "id": "63b93afd",
   "metadata": {
    "execution": {
     "iopub.execute_input": "2025-08-30T05:24:36.586735Z",
     "iopub.status.busy": "2025-08-30T05:24:36.585095Z",
     "iopub.status.idle": "2025-08-30T05:24:36.599429Z",
     "shell.execute_reply": "2025-08-30T05:24:36.597517Z"
    },
    "papermill": {
     "duration": 0.024273,
     "end_time": "2025-08-30T05:24:36.602172",
     "exception": false,
     "start_time": "2025-08-30T05:24:36.577899",
     "status": "completed"
    },
    "tags": []
   },
   "outputs": [],
   "source": [
    "data$iat <- data$D_biep.Young_Good_all"
   ]
  },
  {
   "cell_type": "code",
   "execution_count": 4,
   "id": "299157a0",
   "metadata": {
    "execution": {
     "iopub.execute_input": "2025-08-30T05:24:36.617216Z",
     "iopub.status.busy": "2025-08-30T05:24:36.615451Z",
     "iopub.status.idle": "2025-08-30T05:24:36.763631Z",
     "shell.execute_reply": "2025-08-30T05:24:36.759577Z"
    },
    "papermill": {
     "duration": 0.159376,
     "end_time": "2025-08-30T05:24:36.767306",
     "exception": false,
     "start_time": "2025-08-30T05:24:36.607930",
     "status": "completed"
    },
    "tags": []
   },
   "outputs": [
    {
     "data": {
      "text/plain": [
       "   Min. 1st Qu.  Median    Mean 3rd Qu.    Max. \n",
       "-1.9030  0.2016  0.4619  0.4442  0.7055  1.8595 "
      ]
     },
     "metadata": {},
     "output_type": "display_data"
    }
   ],
   "source": [
    "summary(data$iat)"
   ]
  },
  {
   "cell_type": "code",
   "execution_count": 5,
   "id": "754f6503",
   "metadata": {
    "execution": {
     "iopub.execute_input": "2025-08-30T05:24:36.789832Z",
     "iopub.status.busy": "2025-08-30T05:24:36.788003Z",
     "iopub.status.idle": "2025-08-30T05:24:37.292807Z",
     "shell.execute_reply": "2025-08-30T05:24:37.290566Z"
    },
    "papermill": {
     "duration": 0.521658,
     "end_time": "2025-08-30T05:24:37.295937",
     "exception": false,
     "start_time": "2025-08-30T05:24:36.774279",
     "status": "completed"
    },
    "tags": []
   },
   "outputs": [
    {
     "data": {
      "text/plain": [
       "\n",
       "     AF      AR      AT      AU      BE      BR      CA      CC      CH      CN \n",
       "   2132    2737    7548   25556    3077    6813   54879    2070    4873   13721 \n",
       "     CO      DE      DK      FI      FR      GB      GF      GH      HK      ID \n",
       "   4440   14881    2651    3249    7703   18834    2060    2728    3393    2014 \n",
       "     IE      IN      IR      IT      JP      KR      KY      LK      MX      MY \n",
       "   6903   23369    8103    6300    3795    5666    6868    4180   12455    2932 \n",
       "     NC      NE      NL      nu      NZ      PH      PL      PT      QA      RO \n",
       "   5573    3357    3286    7217    3658    6645    4197    2279    2053    3416 \n",
       "     RU      SE      SG      TJ      TK      UG      UM      US      VG      WF \n",
       "   3721    2843    5212    2266    4597 1199884   47568  647430    2545    8490 \n",
       "     ZA \n",
       "   4361 "
      ]
     },
     "metadata": {},
     "output_type": "display_data"
    }
   ],
   "source": [
    "table(data$country_iso)"
   ]
  },
  {
   "cell_type": "code",
   "execution_count": null,
   "id": "308b3b1a",
   "metadata": {
    "papermill": {
     "duration": 0.005134,
     "end_time": "2025-08-30T05:24:37.306339",
     "exception": false,
     "start_time": "2025-08-30T05:24:37.301205",
     "status": "completed"
    },
    "tags": []
   },
   "outputs": [],
   "source": []
  },
  {
   "cell_type": "markdown",
   "id": "f5b2a32e",
   "metadata": {
    "papermill": {
     "duration": 0.00519,
     "end_time": "2025-08-30T05:24:37.316904",
     "exception": false,
     "start_time": "2025-08-30T05:24:37.311714",
     "status": "completed"
    },
    "tags": []
   },
   "source": [
    "# 2 全球分性别iat_lexis"
   ]
  },
  {
   "cell_type": "code",
   "execution_count": 6,
   "id": "9d17ee41",
   "metadata": {
    "execution": {
     "iopub.execute_input": "2025-08-30T05:24:37.330944Z",
     "iopub.status.busy": "2025-08-30T05:24:37.329410Z",
     "iopub.status.idle": "2025-08-30T05:24:38.623066Z",
     "shell.execute_reply": "2025-08-30T05:24:38.621123Z"
    },
    "papermill": {
     "duration": 1.303978,
     "end_time": "2025-08-30T05:24:38.626043",
     "exception": false,
     "start_time": "2025-08-30T05:24:37.322065",
     "status": "completed"
    },
    "tags": []
   },
   "outputs": [
    {
     "name": "stderr",
     "output_type": "stream",
     "text": [
      "\u001b[1m\u001b[22m`summarise()` has grouped output by 'Period'. You can override using the\n",
      "`.groups` argument.\n"
     ]
    },
    {
     "name": "stderr",
     "output_type": "stream",
     "text": [
      "\u001b[1m\u001b[22m`summarise()` has grouped output by 'Period'. You can override using the\n",
      "`.groups` argument.\n"
     ]
    }
   ],
   "source": [
    "# 载入 dplyr 包\n",
    "library(dplyr)\n",
    "\n",
    "# 提取关键列\n",
    "global_data <- data[, c(\"Sex\", \"Period\", \"Age\", \"iat\")]\n",
    "\n",
    "# 男性子集\n",
    "global_data_m <- subset(global_data, Sex == 1)[, c(\"Period\", \"Age\", \"iat\")]\n",
    "\n",
    "# 女性子集\n",
    "global_data_f <- subset(global_data, Sex == 2)[, c(\"Period\", \"Age\", \"iat\")]\n",
    "\n",
    "# 汇总男性数据\n",
    "pivot_m <- global_data_m %>%\n",
    "  group_by(Period, Age) %>%\n",
    "  summarise(mean_iat = mean(iat, na.rm = TRUE)) %>%\n",
    "  arrange(Period, Age)\n",
    "\n",
    "# 汇总女性数据\n",
    "pivot_f <- global_data_f %>%\n",
    "  group_by(Period, Age) %>%\n",
    "  summarise(mean_iat = mean(iat, na.rm = TRUE)) %>%\n",
    "  arrange(Period, Age)\n"
   ]
  },
  {
   "cell_type": "code",
   "execution_count": 7,
   "id": "b0561f24",
   "metadata": {
    "execution": {
     "iopub.execute_input": "2025-08-30T05:24:38.642540Z",
     "iopub.status.busy": "2025-08-30T05:24:38.640814Z",
     "iopub.status.idle": "2025-08-30T05:24:38.685254Z",
     "shell.execute_reply": "2025-08-30T05:24:38.683494Z"
    },
    "papermill": {
     "duration": 0.0553,
     "end_time": "2025-08-30T05:24:38.687789",
     "exception": false,
     "start_time": "2025-08-30T05:24:38.632489",
     "status": "completed"
    },
    "tags": []
   },
   "outputs": [
    {
     "name": "stdout",
     "output_type": "stream",
     "text": [
      "Rows: 1,586\n",
      "Columns: 3\n",
      "Groups: Period [23]\n",
      "$ Period   \u001b[3m\u001b[90m<int>\u001b[39m\u001b[23m 2002, 2003, 2003, 2003, 2003, 2003, 2003, 2003, 2003, 2003, 2…\n",
      "$ Age      \u001b[3m\u001b[90m<int>\u001b[39m\u001b[23m 55, 15, 16, 17, 18, 19, 20, 21, 22, 23, 24, 25, 26, 27, 28, 2…\n",
      "$ mean_iat \u001b[3m\u001b[90m<dbl>\u001b[39m\u001b[23m 0.01514685, 0.41114627, 0.41988731, 0.45778365, 0.46888733, 0…\n"
     ]
    },
    {
     "data": {
      "text/html": [
       "<table class=\"dataframe\">\n",
       "<caption>A grouped_df: 6 × 3</caption>\n",
       "<thead>\n",
       "\t<tr><th scope=col>Period</th><th scope=col>Age</th><th scope=col>mean_iat</th></tr>\n",
       "\t<tr><th scope=col>&lt;int&gt;</th><th scope=col>&lt;int&gt;</th><th scope=col>&lt;dbl&gt;</th></tr>\n",
       "</thead>\n",
       "<tbody>\n",
       "\t<tr><td>2002</td><td>55</td><td>0.01514685</td></tr>\n",
       "\t<tr><td>2003</td><td>15</td><td>0.41114627</td></tr>\n",
       "\t<tr><td>2003</td><td>16</td><td>0.41988731</td></tr>\n",
       "\t<tr><td>2003</td><td>17</td><td>0.45778365</td></tr>\n",
       "\t<tr><td>2003</td><td>18</td><td>0.46888733</td></tr>\n",
       "\t<tr><td>2003</td><td>19</td><td>0.48493757</td></tr>\n",
       "</tbody>\n",
       "</table>\n"
      ],
      "text/latex": [
       "A grouped\\_df: 6 × 3\n",
       "\\begin{tabular}{lll}\n",
       " Period & Age & mean\\_iat\\\\\n",
       " <int> & <int> & <dbl>\\\\\n",
       "\\hline\n",
       "\t 2002 & 55 & 0.01514685\\\\\n",
       "\t 2003 & 15 & 0.41114627\\\\\n",
       "\t 2003 & 16 & 0.41988731\\\\\n",
       "\t 2003 & 17 & 0.45778365\\\\\n",
       "\t 2003 & 18 & 0.46888733\\\\\n",
       "\t 2003 & 19 & 0.48493757\\\\\n",
       "\\end{tabular}\n"
      ],
      "text/markdown": [
       "\n",
       "A grouped_df: 6 × 3\n",
       "\n",
       "| Period &lt;int&gt; | Age &lt;int&gt; | mean_iat &lt;dbl&gt; |\n",
       "|---|---|---|\n",
       "| 2002 | 55 | 0.01514685 |\n",
       "| 2003 | 15 | 0.41114627 |\n",
       "| 2003 | 16 | 0.41988731 |\n",
       "| 2003 | 17 | 0.45778365 |\n",
       "| 2003 | 18 | 0.46888733 |\n",
       "| 2003 | 19 | 0.48493757 |\n",
       "\n"
      ],
      "text/plain": [
       "  Period Age mean_iat  \n",
       "1 2002   55  0.01514685\n",
       "2 2003   15  0.41114627\n",
       "3 2003   16  0.41988731\n",
       "4 2003   17  0.45778365\n",
       "5 2003   18  0.46888733\n",
       "6 2003   19  0.48493757"
      ]
     },
     "metadata": {},
     "output_type": "display_data"
    },
    {
     "data": {
      "text/plain": [
       "   Min. 1st Qu.  Median    Mean 3rd Qu.    Max. \n",
       "-0.5006  0.4042  0.4272  0.4353  0.4524  1.2226 "
      ]
     },
     "metadata": {},
     "output_type": "display_data"
    }
   ],
   "source": [
    "glimpse(pivot_f)\n",
    "head(pivot_f)\n",
    "summary(pivot_f$mean_iat)"
   ]
  },
  {
   "cell_type": "code",
   "execution_count": 8,
   "id": "c7f63d58",
   "metadata": {
    "execution": {
     "iopub.execute_input": "2025-08-30T05:24:38.706216Z",
     "iopub.status.busy": "2025-08-30T05:24:38.704613Z",
     "iopub.status.idle": "2025-08-30T05:24:38.749940Z",
     "shell.execute_reply": "2025-08-30T05:24:38.747239Z"
    },
    "papermill": {
     "duration": 0.058301,
     "end_time": "2025-08-30T05:24:38.753499",
     "exception": false,
     "start_time": "2025-08-30T05:24:38.695198",
     "status": "completed"
    },
    "tags": []
   },
   "outputs": [
    {
     "name": "stdout",
     "output_type": "stream",
     "text": [
      "Rows: 1,569\n",
      "Columns: 3\n",
      "Groups: Period [22]\n",
      "$ Period   \u001b[3m\u001b[90m<int>\u001b[39m\u001b[23m 2003, 2003, 2003, 2003, 2003, 2003, 2003, 2003, 2003, 2003, 2…\n",
      "$ Age      \u001b[3m\u001b[90m<int>\u001b[39m\u001b[23m 15, 16, 17, 18, 19, 20, 21, 22, 23, 24, 25, 26, 27, 28, 29, 3…\n",
      "$ mean_iat \u001b[3m\u001b[90m<dbl>\u001b[39m\u001b[23m 0.5570952, 0.4928653, 0.5644925, 0.5361579, 0.5686035, 0.5502…\n"
     ]
    },
    {
     "data": {
      "text/html": [
       "<table class=\"dataframe\">\n",
       "<caption>A grouped_df: 6 × 3</caption>\n",
       "<thead>\n",
       "\t<tr><th scope=col>Period</th><th scope=col>Age</th><th scope=col>mean_iat</th></tr>\n",
       "\t<tr><th scope=col>&lt;int&gt;</th><th scope=col>&lt;int&gt;</th><th scope=col>&lt;dbl&gt;</th></tr>\n",
       "</thead>\n",
       "<tbody>\n",
       "\t<tr><td>2003</td><td>15</td><td>0.5570952</td></tr>\n",
       "\t<tr><td>2003</td><td>16</td><td>0.4928653</td></tr>\n",
       "\t<tr><td>2003</td><td>17</td><td>0.5644925</td></tr>\n",
       "\t<tr><td>2003</td><td>18</td><td>0.5361579</td></tr>\n",
       "\t<tr><td>2003</td><td>19</td><td>0.5686035</td></tr>\n",
       "\t<tr><td>2003</td><td>20</td><td>0.5502688</td></tr>\n",
       "</tbody>\n",
       "</table>\n"
      ],
      "text/latex": [
       "A grouped\\_df: 6 × 3\n",
       "\\begin{tabular}{lll}\n",
       " Period & Age & mean\\_iat\\\\\n",
       " <int> & <int> & <dbl>\\\\\n",
       "\\hline\n",
       "\t 2003 & 15 & 0.5570952\\\\\n",
       "\t 2003 & 16 & 0.4928653\\\\\n",
       "\t 2003 & 17 & 0.5644925\\\\\n",
       "\t 2003 & 18 & 0.5361579\\\\\n",
       "\t 2003 & 19 & 0.5686035\\\\\n",
       "\t 2003 & 20 & 0.5502688\\\\\n",
       "\\end{tabular}\n"
      ],
      "text/markdown": [
       "\n",
       "A grouped_df: 6 × 3\n",
       "\n",
       "| Period &lt;int&gt; | Age &lt;int&gt; | mean_iat &lt;dbl&gt; |\n",
       "|---|---|---|\n",
       "| 2003 | 15 | 0.5570952 |\n",
       "| 2003 | 16 | 0.4928653 |\n",
       "| 2003 | 17 | 0.5644925 |\n",
       "| 2003 | 18 | 0.5361579 |\n",
       "| 2003 | 19 | 0.5686035 |\n",
       "| 2003 | 20 | 0.5502688 |\n",
       "\n"
      ],
      "text/plain": [
       "  Period Age mean_iat \n",
       "1 2003   15  0.5570952\n",
       "2 2003   16  0.4928653\n",
       "3 2003   17  0.5644925\n",
       "4 2003   18  0.5361579\n",
       "5 2003   19  0.5686035\n",
       "6 2003   20  0.5502688"
      ]
     },
     "metadata": {},
     "output_type": "display_data"
    },
    {
     "data": {
      "text/plain": [
       "   Min. 1st Qu.  Median    Mean 3rd Qu.    Max. \n",
       "-0.1791  0.4753  0.5023  0.5155  0.5371  1.3020 "
      ]
     },
     "metadata": {},
     "output_type": "display_data"
    }
   ],
   "source": [
    "glimpse(pivot_m)\n",
    "head(pivot_m)\n",
    "summary(pivot_m$mean_iat)"
   ]
  },
  {
   "cell_type": "code",
   "execution_count": 9,
   "id": "91d2e9cb",
   "metadata": {
    "execution": {
     "iopub.execute_input": "2025-08-30T05:24:38.769552Z",
     "iopub.status.busy": "2025-08-30T05:24:38.767933Z",
     "iopub.status.idle": "2025-08-30T05:24:38.793107Z",
     "shell.execute_reply": "2025-08-30T05:24:38.791218Z"
    },
    "papermill": {
     "duration": 0.036156,
     "end_time": "2025-08-30T05:24:38.795852",
     "exception": false,
     "start_time": "2025-08-30T05:24:38.759696",
     "status": "completed"
    },
    "tags": []
   },
   "outputs": [],
   "source": [
    "# 男性数据的离散标签（7 类）\n",
    "pivot_m$iat_disc <- cut(\n",
    "  pivot_m$mean_iat,\n",
    "  breaks = c(-Inf, -0.75, -0.5, -0.1, 0.1, 0.5, 0.75, Inf),\n",
    "  labels = c(\n",
    "    \"极强偏好老年人\",\n",
    "    \"明显偏好老年人\",\n",
    "    \"轻微偏好老年人\",\n",
    "    \"中性\",\n",
    "    \"轻微偏好年轻人\",\n",
    "    \"明显偏好年轻人\",\n",
    "    \"极强偏好年轻人\"\n",
    "  ),\n",
    "  right = TRUE,\n",
    "  include.lowest = TRUE\n",
    ")\n",
    "\n",
    "# 女性数据的离散标签（7 类）\n",
    "pivot_f$iat_disc <- cut(\n",
    "  pivot_f$mean_iat,\n",
    "  breaks = c(-Inf, -0.75, -0.5, -0.1, 0.1, 0.5, 0.75, Inf),\n",
    "  labels = c(\n",
    "    \"极强偏好老年人\",\n",
    "    \"明显偏好老年人\",\n",
    "    \"轻微偏好老年人\",\n",
    "    \"中性\",\n",
    "    \"轻微偏好年轻人\",\n",
    "    \"明显偏好年轻人\",\n",
    "    \"极强偏好年轻人\"\n",
    "  ),\n",
    "  right = TRUE,\n",
    "  include.lowest = TRUE\n",
    ")\n",
    "\n",
    "# ✅ 强制设置 factor 顺序\n",
    "levels_7 <- c(\n",
    "  \"极强偏好年轻人\",\n",
    "  \"明显偏好年轻人\",\n",
    "  \"轻微偏好年轻人\",\n",
    "  \"中性\",\n",
    "  \"轻微偏好老年人\",\n",
    "  \"明显偏好老年人\",\n",
    "  \"极强偏好老年人\"\n",
    ")\n",
    "# ✅ 手动定义7个分类对应的颜色（红→蓝发散色调）\n",
    "colors_7 <- c(\n",
    "  \"极强偏好年轻人\" = \"#2166AC\",\n",
    "  \"明显偏好年轻人\" = \"#4393C3\",\n",
    "  \"轻微偏好年轻人\" = \"#92C5DE\",\n",
    "  \"中性\"           = \"#F7F7F7\",\n",
    "  \"轻微偏好老年人\" = \"#F4A582\",\n",
    "  \"明显偏好老年人\" = \"#D6604D\",\n",
    "  \"极强偏好老年人\" = \"#B2182B\"\n",
    ")\n",
    "\n",
    "\n"
   ]
  },
  {
   "cell_type": "code",
   "execution_count": 10,
   "id": "eb0617e9",
   "metadata": {
    "execution": {
     "iopub.execute_input": "2025-08-30T05:24:38.811915Z",
     "iopub.status.busy": "2025-08-30T05:24:38.810078Z",
     "iopub.status.idle": "2025-08-30T05:24:39.083890Z",
     "shell.execute_reply": "2025-08-30T05:24:39.081846Z"
    },
    "papermill": {
     "duration": 0.28475,
     "end_time": "2025-08-30T05:24:39.086673",
     "exception": false,
     "start_time": "2025-08-30T05:24:38.801923",
     "status": "completed"
    },
    "tags": []
   },
   "outputs": [
    {
     "name": "stderr",
     "output_type": "stream",
     "text": [
      "'showtext.auto()' is now renamed to 'showtext_auto()'\n",
      "The old version still works, but consider using the new function in future code\n",
      "\n"
     ]
    }
   ],
   "source": [
    "# 第一部分：初始化环境 ---------------------------------------------------\n",
    "library(ggplot2)  # 用于数据可视化\n",
    "library(dplyr)    # 用于数据处理和管道操作\n",
    "library(tidyr)    # 用于数据重塑(长宽格式转换)\n",
    "library(readr)    # 用于高效读写CSV文件\n",
    "library(sysfonts) # 用于字体管理\n",
    "library(showtextdb) # 用于字体数据库\n",
    "library(showtext)   # 用于在R图形中使用系统字体\n",
    "showtext.auto()   # 激活showtext功能，允许使用系统字体\n"
   ]
  },
  {
   "cell_type": "code",
   "execution_count": 11,
   "id": "2489a84e",
   "metadata": {
    "execution": {
     "iopub.execute_input": "2025-08-30T05:24:39.103399Z",
     "iopub.status.busy": "2025-08-30T05:24:39.101707Z",
     "iopub.status.idle": "2025-08-30T05:24:40.004510Z",
     "shell.execute_reply": "2025-08-30T05:24:40.002585Z"
    },
    "papermill": {
     "duration": 0.914108,
     "end_time": "2025-08-30T05:24:40.007194",
     "exception": false,
     "start_time": "2025-08-30T05:24:39.093086",
     "status": "completed"
    },
    "tags": []
   },
   "outputs": [
    {
     "name": "stderr",
     "output_type": "stream",
     "text": [
      "\u001b[1m\u001b[22mSaving 12.5 x 6.67 in image\n"
     ]
    },
    {
     "name": "stderr",
     "output_type": "stream",
     "text": [
      "Warning message:\n",
      "“\u001b[1m\u001b[22mRemoved 74 rows containing missing values or values outside the scale range\n",
      "(`geom_raster()`).”\n"
     ]
    }
   ],
   "source": [
    "library(ggplot2)\n",
    "pivot_m$iat_disc <- factor(pivot_m$iat_disc, levels = levels_7)\n",
    "\n",
    "plot_lexis_m <- ggplot(pivot_m) +\n",
    "  # 热图\n",
    "  geom_raster(aes(x = Period + 0.5, y = Age + 0.5, fill = iat_disc)) +\n",
    "\n",
    "  # Lexis 网格线\n",
    "  geom_hline(yintercept = seq(15, 89, 5), alpha = 0.2, lty = \"dotted\") +\n",
    "  geom_vline(xintercept = seq(2003, 2024, 7), alpha = 0.2, lty = \"dotted\") +  # ✅ 修改：年份线\n",
    "  geom_abline(intercept = seq(-100, 100, 10) - 2003, alpha = 0.2, lty = \"dotted\") +  # ✅ 关键同步：起点年份是 2003\n",
    "\n",
    "  # 色标\n",
    "  scale_fill_manual(\n",
    "  name = NULL,\n",
    "  values = colors_7,drop=FALSE\n",
    ")+\n",
    "\n",
    "  # 坐标轴设置\n",
    "  scale_x_continuous(\n",
    "    name = \"年份\",\n",
    "    breaks = seq(2003, 2024, 7),     # ✅ 修改：2年为步长\n",
    "    limits = c(2003, 2024),\n",
    "    expand = c(0, 0)\n",
    "  ) +\n",
    "  scale_y_continuous(\"年龄\", expand = c(0, 0)) +\n",
    "\n",
    "  # 比例设定（可保留 coord_equal，也可以换成 coord_fixed(ratio = 0.5)）\n",
    "  coord_equal() +\n",
    "\n",
    "  guides(fill = guide_legend(reverse = TRUE)) +\n",
    "  theme_void() +\n",
    "  theme(\n",
    "    axis.text = element_text(color = \"black\"),\n",
    "    axis.text.y = element_text(),\n",
    "    axis.text.x = element_text()\n",
    "  )\n",
    "\n",
    "# 保存图形\n",
    "ggsave(\n",
    "  filename = \"/kaggle/working/iat_lexis_male.tiff\",\n",
    "  plot = plot_lexis_m,\n",
    "  dpi = 600\n",
    ")\n"
   ]
  },
  {
   "cell_type": "code",
   "execution_count": 12,
   "id": "4877e32f",
   "metadata": {
    "execution": {
     "iopub.execute_input": "2025-08-30T05:24:40.024857Z",
     "iopub.status.busy": "2025-08-30T05:24:40.023235Z",
     "iopub.status.idle": "2025-08-30T05:24:40.834445Z",
     "shell.execute_reply": "2025-08-30T05:24:40.832488Z"
    },
    "papermill": {
     "duration": 0.823379,
     "end_time": "2025-08-30T05:24:40.837348",
     "exception": false,
     "start_time": "2025-08-30T05:24:40.013969",
     "status": "completed"
    },
    "tags": []
   },
   "outputs": [
    {
     "name": "stderr",
     "output_type": "stream",
     "text": [
      "\u001b[1m\u001b[22mSaving 12.5 x 6.67 in image\n"
     ]
    },
    {
     "name": "stderr",
     "output_type": "stream",
     "text": [
      "Warning message:\n",
      "“\u001b[1m\u001b[22mRemoved 75 rows containing missing values or values outside the scale range\n",
      "(`geom_raster()`).”\n"
     ]
    }
   ],
   "source": [
    "library(ggplot2)\n",
    "pivot_f$iat_disc <- factor(pivot_f$iat_disc, levels = levels_7)\n",
    "\n",
    "plot_lexis_f <- ggplot(pivot_f) +\n",
    "  # 热图\n",
    "  geom_raster(aes(x = Period + 0.5, y = Age + 0.5, fill = iat_disc)) +\n",
    "\n",
    "  # Lexis 网格线\n",
    "  geom_hline(yintercept = seq(15, 89, 5), alpha = 0.2, lty = \"dotted\") +\n",
    "  geom_vline(xintercept = seq(2003, 2024, 7), alpha = 0.2, lty = \"dotted\") +  # ✅ 修改：年份线\n",
    "  geom_abline(intercept = seq(-100, 100, 10) - 2003, alpha = 0.2, lty = \"dotted\") +  # ✅ 关键同步：起点年份是 2003\n",
    "\n",
    "  # 色标\n",
    "  scale_fill_manual(\n",
    "  name = NULL,\n",
    "  values = colors_7,drop=FALSE\n",
    ")+\n",
    "\n",
    "  # 坐标轴设置\n",
    "  scale_x_continuous(\n",
    "    name = \"年份\",\n",
    "    breaks = seq(2003, 2024, 7),     # ✅ 修改：2年为步长\n",
    "    limits = c(2003, 2024),\n",
    "    expand = c(0, 0)\n",
    "  ) +\n",
    "  scale_y_continuous(\"年龄\", expand = c(0, 0)) +\n",
    "\n",
    "  # 比例设定（可保留 coord_equal，也可以换成 coord_fixed(ratio = 0.5)）\n",
    "  coord_equal() +\n",
    "\n",
    "  guides(fill = guide_legend(reverse = TRUE)) +\n",
    "  theme_void() +\n",
    "  theme(\n",
    "    axis.text = element_text(color = \"black\"),\n",
    "    axis.text.y = element_text(),\n",
    "    axis.text.x = element_text()\n",
    "  )\n",
    "\n",
    "# 保存图形\n",
    "ggsave(\n",
    "  filename = \"/kaggle/working/iat_lexis_famale.tiff\",\n",
    "  plot = plot_lexis_f,\n",
    "  dpi = 600\n",
    ")\n"
   ]
  },
  {
   "cell_type": "markdown",
   "id": "5f10458c",
   "metadata": {
    "papermill": {
     "duration": 0.006694,
     "end_time": "2025-08-30T05:24:40.850432",
     "exception": false,
     "start_time": "2025-08-30T05:24:40.843738",
     "status": "completed"
    },
    "tags": []
   },
   "source": [
    "# 3 中国分性别 iat_lexis"
   ]
  },
  {
   "cell_type": "code",
   "execution_count": 13,
   "id": "8b5d379f",
   "metadata": {
    "execution": {
     "iopub.execute_input": "2025-08-30T05:24:40.867681Z",
     "iopub.status.busy": "2025-08-30T05:24:40.865999Z",
     "iopub.status.idle": "2025-08-30T05:24:41.117671Z",
     "shell.execute_reply": "2025-08-30T05:24:41.115749Z"
    },
    "papermill": {
     "duration": 0.263841,
     "end_time": "2025-08-30T05:24:41.120576",
     "exception": false,
     "start_time": "2025-08-30T05:24:40.856735",
     "status": "completed"
    },
    "tags": []
   },
   "outputs": [
    {
     "name": "stderr",
     "output_type": "stream",
     "text": [
      "\u001b[1m\u001b[22m`summarise()` has grouped output by 'Period'. You can override using the\n",
      "`.groups` argument.\n"
     ]
    },
    {
     "name": "stderr",
     "output_type": "stream",
     "text": [
      "\u001b[1m\u001b[22m`summarise()` has grouped output by 'Period'. You can override using the\n",
      "`.groups` argument.\n"
     ]
    }
   ],
   "source": [
    "# 提取中国的数据（country_iso == \"CN\"）并选取关键列\n",
    "CN_data <- subset(data, country_iso == \"CN\")[, c(\"Sex\", \"Period\", \"Age\", \"iat\")]\n",
    "# 男性子集\n",
    "CN_data_m <- subset(CN_data, Sex == 1)[, c(\"Period\", \"Age\", \"iat\")]\n",
    "# 女性子集\n",
    "CN_data_f <- subset(CN_data, Sex == 2)[, c(\"Period\", \"Age\", \"iat\")]\n",
    "\n",
    "# 汇总男性数据\n",
    "pivot_m <- CN_data_m %>%\n",
    "  group_by(Period, Age) %>%\n",
    "  summarise(mean_iat = mean(iat, na.rm = TRUE)) %>%\n",
    "  arrange(Period, Age)\n",
    "\n",
    "# 汇总女性数据\n",
    "pivot_f <- CN_data_f %>%\n",
    "  group_by(Period, Age) %>%\n",
    "  summarise(mean_iat = mean(iat, na.rm = TRUE)) %>%\n",
    "  arrange(Period, Age)\n"
   ]
  },
  {
   "cell_type": "code",
   "execution_count": 14,
   "id": "32a5cf3a",
   "metadata": {
    "execution": {
     "iopub.execute_input": "2025-08-30T05:24:41.138276Z",
     "iopub.status.busy": "2025-08-30T05:24:41.136585Z",
     "iopub.status.idle": "2025-08-30T05:24:41.162942Z",
     "shell.execute_reply": "2025-08-30T05:24:41.161059Z"
    },
    "papermill": {
     "duration": 0.038778,
     "end_time": "2025-08-30T05:24:41.165906",
     "exception": false,
     "start_time": "2025-08-30T05:24:41.127128",
     "status": "completed"
    },
    "tags": []
   },
   "outputs": [],
   "source": [
    "# 男性数据的离散标签（7 类）\n",
    "pivot_m$iat_disc <- cut(\n",
    "  pivot_m$mean_iat,\n",
    "  breaks = c(-Inf, -0.75, -0.5, -0.1, 0.1, 0.5, 0.75, Inf),\n",
    "  labels = c(\n",
    "    \"极强偏好老年人\",\n",
    "    \"明显偏好老年人\",\n",
    "    \"轻微偏好老年人\",\n",
    "    \"中性\",\n",
    "    \"轻微偏好年轻人\",\n",
    "    \"明显偏好年轻人\",\n",
    "    \"极强偏好年轻人\"\n",
    "  ),\n",
    "  right = TRUE,\n",
    "  include.lowest = TRUE\n",
    ")\n",
    "\n",
    "# 女性数据的离散标签（7 类）\n",
    "pivot_f$iat_disc <- cut(\n",
    "  pivot_f$mean_iat,\n",
    "  breaks = c(-Inf, -0.75, -0.5, -0.1, 0.1, 0.5, 0.75, Inf),\n",
    "  labels = c(\n",
    "    \"极强偏好老年人\",\n",
    "    \"明显偏好老年人\",\n",
    "    \"轻微偏好老年人\",\n",
    "    \"中性\",\n",
    "    \"轻微偏好年轻人\",\n",
    "    \"明显偏好年轻人\",\n",
    "    \"极强偏好年轻人\"\n",
    "  ),\n",
    "  right = TRUE,\n",
    "  include.lowest = TRUE\n",
    ")\n",
    "\n",
    "# ✅ 强制设置 factor 顺序\n",
    "levels_7 <- c(\n",
    "  \"极强偏好年轻人\",\n",
    "  \"明显偏好年轻人\",\n",
    "  \"轻微偏好年轻人\",\n",
    "  \"中性\",\n",
    "  \"轻微偏好老年人\",\n",
    "  \"明显偏好老年人\",\n",
    "  \"极强偏好老年人\"\n",
    ")\n",
    "\n",
    "\n",
    "# 建议颜色（红-灰-蓝的 7 色渐变）\n",
    "colors_7 <- c(\n",
    "  \"极强偏好年轻人\" = \"#2166AC\",\n",
    "  \"明显偏好年轻人\" = \"#4393C3\",\n",
    "  \"轻微偏好年轻人\" = \"#92C5DE\",\n",
    "  \"中性\"           = \"#F7F7F7\",\n",
    "  \"轻微偏好老年人\" = \"#F4A582\",\n",
    "  \"明显偏好老年人\" = \"#D6604D\",\n",
    "  \"极强偏好老年人\" = \"#B2182B\"\n",
    ")\n"
   ]
  },
  {
   "cell_type": "code",
   "execution_count": 15,
   "id": "9a7c6e82",
   "metadata": {
    "execution": {
     "iopub.execute_input": "2025-08-30T05:24:41.183841Z",
     "iopub.status.busy": "2025-08-30T05:24:41.181809Z",
     "iopub.status.idle": "2025-08-30T05:24:41.632282Z",
     "shell.execute_reply": "2025-08-30T05:24:41.630341Z"
    },
    "papermill": {
     "duration": 0.462485,
     "end_time": "2025-08-30T05:24:41.635054",
     "exception": false,
     "start_time": "2025-08-30T05:24:41.172569",
     "status": "completed"
    },
    "tags": []
   },
   "outputs": [
    {
     "name": "stderr",
     "output_type": "stream",
     "text": [
      "\u001b[1m\u001b[22mSaving 12.5 x 6.67 in image\n"
     ]
    },
    {
     "name": "stderr",
     "output_type": "stream",
     "text": [
      "Warning message:\n",
      "“\u001b[1m\u001b[22mRaster pixels are placed at uneven horizontal intervals and will be shifted\n",
      "\u001b[36mℹ\u001b[39m Consider using `geom_tile()` instead.”\n"
     ]
    }
   ],
   "source": [
    "library(ggplot2)\n",
    "pivot_m$iat_disc <- factor(pivot_m$iat_disc, levels = levels_7)\n",
    "\n",
    "plot_lexis_m <- ggplot(pivot_m) +\n",
    "  # 热图\n",
    "  geom_raster(aes(x = Period + 0.5, y = Age + 0.5, fill = iat_disc)) +\n",
    "\n",
    "  # Lexis 网格线\n",
    "  geom_hline(yintercept = seq(15, 89, 5), alpha = 0.2, lty = \"dotted\") +\n",
    "  geom_vline(xintercept = seq(2003, 2024, 7), alpha = 0.2, lty = \"dotted\") +  # ✅ 修改：年份线\n",
    "  geom_abline(intercept = seq(-100, 100, 10) - 2003, alpha = 0.2, lty = \"dotted\") +  # ✅ 关键同步：起点年份是 2003\n",
    "\n",
    "  # 色标\n",
    " scale_fill_manual(\n",
    "  name = NULL,\n",
    "  values = colors_7,drop=FALSE\n",
    ")+\n",
    "  # 坐标轴设置\n",
    "  scale_x_continuous(\n",
    "    name = \"年份\",\n",
    "    breaks = seq(2003, 2024, 7),     # ✅ 修改：2年为步长\n",
    "    limits = c(2003, 2024),\n",
    "    expand = c(0, 0)\n",
    "  ) +\n",
    "  scale_y_continuous(\"年龄\", expand = c(0, 0)) +\n",
    "\n",
    "  # 比例设定（可保留 coord_equal，也可以换成 coord_fixed(ratio = 0.5)）\n",
    "  coord_equal() +\n",
    "\n",
    "  guides(fill = guide_legend(reverse = TRUE)) +\n",
    "  theme_void() +\n",
    "  theme(\n",
    "    axis.text = element_text(color = \"black\"),\n",
    "    axis.text.y = element_text(),\n",
    "    axis.text.x = element_text()\n",
    "  )\n",
    "\n",
    "# 保存图形\n",
    "ggsave(\n",
    "  filename = \"/kaggle/working/CN_male.tiff\",\n",
    "  plot = plot_lexis_m,\n",
    "  dpi = 300\n",
    ")\n"
   ]
  },
  {
   "cell_type": "code",
   "execution_count": 16,
   "id": "17b5a9da",
   "metadata": {
    "execution": {
     "iopub.execute_input": "2025-08-30T05:24:41.653148Z",
     "iopub.status.busy": "2025-08-30T05:24:41.651435Z",
     "iopub.status.idle": "2025-08-30T05:24:42.004741Z",
     "shell.execute_reply": "2025-08-30T05:24:42.002790Z"
    },
    "papermill": {
     "duration": 0.365924,
     "end_time": "2025-08-30T05:24:42.007755",
     "exception": false,
     "start_time": "2025-08-30T05:24:41.641831",
     "status": "completed"
    },
    "tags": []
   },
   "outputs": [
    {
     "name": "stderr",
     "output_type": "stream",
     "text": [
      "\u001b[1m\u001b[22mSaving 12.5 x 6.67 in image\n"
     ]
    },
    {
     "name": "stderr",
     "output_type": "stream",
     "text": [
      "Warning message:\n",
      "“\u001b[1m\u001b[22mRaster pixels are placed at uneven horizontal intervals and will be shifted\n",
      "\u001b[36mℹ\u001b[39m Consider using `geom_tile()` instead.”\n"
     ]
    },
    {
     "name": "stderr",
     "output_type": "stream",
     "text": [
      "Warning message:\n",
      "“\u001b[1m\u001b[22mRemoved 2 rows containing missing values or values outside the scale range\n",
      "(`geom_raster()`).”\n"
     ]
    }
   ],
   "source": [
    "library(ggplot2)\n",
    "pivot_f$iat_disc <- factor(pivot_f$iat_disc, levels = levels_7)\n",
    "plot_lexis_f <- ggplot(pivot_f) +\n",
    "  # 热图\n",
    "  geom_raster(aes(x = Period + 0.5, y = Age + 0.5, fill = iat_disc)) +\n",
    "\n",
    "  # Lexis 网格线\n",
    "  geom_hline(yintercept = seq(15, 89, 5), alpha = 0.2, lty = \"dotted\") +\n",
    "  geom_vline(xintercept = seq(2003, 2024, 2), alpha = 0.2, lty = \"dotted\") +  # ✅ 修改：年份线\n",
    "  geom_abline(intercept = seq(-100, 100, 10) - 2003, alpha = 0.2, lty = \"dotted\") +  # ✅ 关键同步：起点年份是 2003\n",
    "\n",
    "  # 色标\n",
    "scale_fill_manual(\n",
    "  name = NULL,\n",
    "  values = colors_7,drop=FALSE\n",
    ")+\n",
    "\n",
    "  # 坐标轴设置\n",
    "  scale_x_continuous(\n",
    "    name = \"年份\",\n",
    "    breaks = seq(2003, 2024, 7),     # ✅ 修改：2年为步长\n",
    "    limits = c(2003, 2024),\n",
    "    expand = c(0, 0)\n",
    "  ) +\n",
    "  scale_y_continuous(\"年龄\", expand = c(0, 0)) +\n",
    "\n",
    "  # 比例设定（可保留 coord_equal，也可以换成 coord_fixed(ratio = 0.5)）\n",
    "  coord_equal() +\n",
    "\n",
    "  guides(fill = guide_legend(reverse = TRUE)) +\n",
    "  theme_void() +\n",
    "  theme(\n",
    "    axis.text = element_text(color = \"black\"),\n",
    "    axis.text.y = element_text(),\n",
    "    axis.text.x = element_text()\n",
    "  )\n",
    "\n",
    "# 保存图形\n",
    "ggsave(\n",
    "  filename = \"/kaggle/working/CN_famale.tiff\",\n",
    "  plot = plot_lexis_f,\n",
    "  dpi = 300\n",
    ")\n"
   ]
  }
 ],
 "metadata": {
  "kaggle": {
   "accelerator": "none",
   "dataSources": [
    {
     "datasetId": 8005949,
     "sourceId": 12911158,
     "sourceType": "datasetVersion"
    }
   ],
   "dockerImageVersionId": 30749,
   "isGpuEnabled": false,
   "isInternetEnabled": true,
   "language": "r",
   "sourceType": "notebook"
  },
  "kernelspec": {
   "display_name": "R",
   "language": "R",
   "name": "ir"
  },
  "language_info": {
   "codemirror_mode": "r",
   "file_extension": ".r",
   "mimetype": "text/x-r-source",
   "name": "R",
   "pygments_lexer": "r",
   "version": "4.4.0"
  },
  "papermill": {
   "default_parameters": {},
   "duration": 64.023026,
   "end_time": "2025-08-30T05:24:42.338930",
   "environment_variables": {},
   "exception": null,
   "input_path": "__notebook__.ipynb",
   "output_path": "__notebook__.ipynb",
   "parameters": {},
   "start_time": "2025-08-30T05:23:38.315904",
   "version": "2.6.0"
  }
 },
 "nbformat": 4,
 "nbformat_minor": 5
}
